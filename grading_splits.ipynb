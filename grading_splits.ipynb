{
 "cells": [
  {
   "cell_type": "code",
   "execution_count": 2,
   "metadata": {},
   "outputs": [],
   "source": [
    "import pandas as pd\n",
    "import numpy as np\n",
    "from IPython.display import display, HTML"
   ]
  },
  {
   "cell_type": "markdown",
   "metadata": {},
   "source": [
    "# Grading Splits: PrairieLearn Edition\n",
    "\n",
    "Use the next cell to input TA name and allocation data. You can also change the amount of instances."
   ]
  },
  {
   "cell_type": "code",
   "execution_count": 6,
   "metadata": {},
   "outputs": [],
   "source": [
    "# change this to current term\n",
    "schedule = {'name':['Kristine', 'Trevor', 'Hamid', \n",
    "                    'Ben', 'Jason', 'Junfeng', 'Jubelle'],\n",
    "            'hours': [3,4,4,3,4,3.5,2]}  \n",
    "df = pd.DataFrame() \n",
    "df = pd.DataFrame(schedule) \n",
    "\n",
    "# change this to however many instances there are\n",
    "instances = 72"
   ]
  },
  {
   "cell_type": "code",
   "execution_count": 7,
   "metadata": {},
   "outputs": [],
   "source": [
    "def find_num_files(hours, total_hours, total_subs):\n",
    "    \"\"\"\n",
    "    function used to calculate the ratio of individual TA availability to total hours \n",
    "    hours = hours per TA\n",
    "    total_hours = total hours of all TAs\n",
    "    This generates the relative availability of each TA\n",
    "    \n",
    "    The relative availability is then multiplied by the total number of submissions and rounded to \n",
    "    find how many files each TA will grade\n",
    "    \n",
    "    returns: number of files to grade per TA\n",
    "    \"\"\"\n",
    "    return int(round(hours/total_hours*total_subs))\n",
    "\n",
    "def find_list_num_files(df, total_subs):\n",
    "    num_grade = [find_num_files(i, df['hours'].sum(), total_subs) for i in df.hours]\n",
    "    num_grade[-1] += total_subs - sum(num_grade)\n",
    "    return num_grade\n",
    "\n",
    "def files_to_grade(file_nums):\n",
    "    \"\"\"\n",
    "    takes in the names and num of files each TA will grade and outputs their split\n",
    "    \"\"\"\n",
    "    to_grade = []\n",
    "    start = 1\n",
    "    for i in file_nums:\n",
    "        to_grade.append('{0} - {1}'.format(start, start + i -1))\n",
    "        start += i\n",
    "    return to_grade"
   ]
  },
  {
   "cell_type": "code",
   "execution_count": 8,
   "metadata": {},
   "outputs": [],
   "source": [
    "f_nums = find_list_num_files(df, instances)\n",
    "to_grade = files_to_grade(f_nums)\n",
    "df['instances'] = to_grade\n",
    "df['num_files']= f_nums"
   ]
  },
  {
   "cell_type": "code",
   "execution_count": 9,
   "metadata": {},
   "outputs": [
    {
     "data": {
      "text/html": [
       "<table border=\"1\" class=\"dataframe\">\n",
       "  <thead>\n",
       "    <tr style=\"text-align: right;\">\n",
       "      <th>name</th>\n",
       "      <th>hours</th>\n",
       "      <th>instances</th>\n",
       "      <th>num_files</th>\n",
       "    </tr>\n",
       "  </thead>\n",
       "  <tbody>\n",
       "    <tr>\n",
       "      <td>Kristine</td>\n",
       "      <td>3.0</td>\n",
       "      <td>1 - 9</td>\n",
       "      <td>9</td>\n",
       "    </tr>\n",
       "    <tr>\n",
       "      <td>Trevor</td>\n",
       "      <td>4.0</td>\n",
       "      <td>10 - 21</td>\n",
       "      <td>12</td>\n",
       "    </tr>\n",
       "    <tr>\n",
       "      <td>Hamid</td>\n",
       "      <td>4.0</td>\n",
       "      <td>22 - 33</td>\n",
       "      <td>12</td>\n",
       "    </tr>\n",
       "    <tr>\n",
       "      <td>Ben</td>\n",
       "      <td>3.0</td>\n",
       "      <td>34 - 42</td>\n",
       "      <td>9</td>\n",
       "    </tr>\n",
       "    <tr>\n",
       "      <td>Jason</td>\n",
       "      <td>4.0</td>\n",
       "      <td>43 - 54</td>\n",
       "      <td>12</td>\n",
       "    </tr>\n",
       "    <tr>\n",
       "      <td>Junfeng</td>\n",
       "      <td>3.5</td>\n",
       "      <td>55 - 65</td>\n",
       "      <td>11</td>\n",
       "    </tr>\n",
       "    <tr>\n",
       "      <td>Jubelle</td>\n",
       "      <td>2.0</td>\n",
       "      <td>66 - 72</td>\n",
       "      <td>7</td>\n",
       "    </tr>\n",
       "  </tbody>\n",
       "</table>"
      ],
      "text/plain": [
       "<IPython.core.display.HTML object>"
      ]
     },
     "metadata": {},
     "output_type": "display_data"
    }
   ],
   "source": [
    "display(HTML(df.to_html(index=False)))"
   ]
  }
 ],
 "metadata": {
  "kernelspec": {
   "display_name": "Python 3",
   "language": "python",
   "name": "python3"
  },
  "language_info": {
   "codemirror_mode": {
    "name": "ipython",
    "version": 3
   },
   "file_extension": ".py",
   "mimetype": "text/x-python",
   "name": "python",
   "nbconvert_exporter": "python",
   "pygments_lexer": "ipython3",
   "version": "3.8.3"
  }
 },
 "nbformat": 4,
 "nbformat_minor": 4
}
